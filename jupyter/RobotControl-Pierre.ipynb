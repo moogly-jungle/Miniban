{
 "cells": [
  {
   "cell_type": "markdown",
   "metadata": {},
   "source": [
    "# Découverte de Miniban Explorer\n",
    "\n",
    "L'objectif de cette feuille de travail est d'apprendre les bases du contrôle de Miniban Explorer"
   ]
  },
  {
   "cell_type": "markdown",
   "metadata": {},
   "source": [
    "## Initialisation du robot"
   ]
  },
  {
   "cell_type": "markdown",
   "metadata": {},
   "source": [
    "Le code suivant initialise le robot. Cela consiste à initialiser les différents composants du robot, et à vérifier qu'ils fonctionnent. Exécute-le.  \n",
    "(à noter que la cellule n'est pas modifiable)"
   ]
  },
  {
   "cell_type": "code",
   "execution_count": 1,
   "metadata": {
    "editable": false,
    "scrolled": true
   },
   "outputs": [
    {
     "name": "stdout",
     "output_type": "stream",
     "text": [
      "- connexion aux moteurs ... \u001b[0m\u001b[92m[ok]\u001b[0m\n",
      "- connexion à la caméra ... \u001b[0m\u001b[92m[ok]\u001b[0m\n",
      "- Initialisation de l'affichage ... \u001b[0m\u001b[92m[ok]\u001b[0m\n",
      "- calibration de l'imu \u001b[0m.\u001b[0m.\u001b[0m. \u001b[0m\u001b[92m[ok]\u001b[0m\n",
      "- initialisation procédure de test globale\u001b[0m\n",
      "  - check moteurs:\u001b[0m\n",
      "    [avant gauche] \ttemp: 29.0° \u001b[0m\tvolt: 10.10V \u001b[0m\u001b[92m \t[ok]\u001b[0m\n",
      "    [arrière gauche] \ttemp: 30.0° \u001b[0m\tvolt: 10.10V \u001b[0m\u001b[92m \t[ok]\u001b[0m\n",
      "    [avant droit] \ttemp: 29.0° \u001b[0m\tvolt: 10.10V \u001b[0m\u001b[92m \t[ok]\u001b[0m\n",
      "    [arrière droit] \ttemp: 29.0° \u001b[0m\tvolt: 10.00V \u001b[0m\u001b[92m \t[ok]\u001b[0m\n",
      "  - check capteurs:\u001b[0m\n",
      "    [dist. avant] ... \u001b[0m\u001b[92m[ok]\u001b[0m\n",
      "    [dist. droite] ... \u001b[0m\u001b[92m[ok]\u001b[0m\n",
      "    [dist. gauche] ... \u001b[0m\u001b[92m[ok]\u001b[0m\n",
      "    [camera] ... \u001b[0m\u001b[92m[ok]\u001b[0m\n",
      "- procédure de test globale ... \u001b[0m\u001b[92m[ok]\u001b[0m\n"
     ]
    }
   ],
   "source": [
    "# import des bibliothèques logicielles nécessaires au contrôle du robot.\n",
    "# une bibliothèque logicielle est un ensemble de programmes déjà écrit, \n",
    "# prêts à être utilisés.\n",
    "import robot_header\n",
    "import robot\n",
    "\n",
    "# Ici, initialise le robot.\n",
    "bot = robot.Robot()"
   ]
  },
  {
   "cell_type": "markdown",
   "metadata": {},
   "source": [
    "*Attention, tu ne peux pas éxécuter plusieurs fois le code précédent. Si tu veux le ré-exécuter, il faut relancer le noyau. Pour ce faire, clique en haut dans barre de menu sur \"Noyau/Redémarrer\", puis exécute la cellule.*  \n",
    "  \n",
    "\n",
    "Examinons la sortie du code précédent. Il s'agit de l'initialisation des différents composants du robot: \n",
    "- les moteurs des roues. Chaque roue est mue par un moteur indépendant.\n",
    "- la caméra qui permet de prendre des photos ou bien de filmer.\n",
    "- le capteur de position (IMU pour \"Inertial Measurement Unit\"). C'est grâce à ce capteur que le robot connaît son orientation. \n",
    "- l'écran d'affichage. Cet écran a un aspect un peu bizarre, c'est du \"papier électronique\", une technologie d'affichage qui consomme très peu d'énergie\n",
    "\n",
    "Ensuite s'exécute la procédure de test pour voir si tous les composants fonctionnent bien.\n",
    "- les premiers tests concernent les moteurs des roues. On vérifie leur température (donnée en degrés celcius). Un moteur qui chauffe, ça n'est jamais trop bon. Cette température ne doit pas excéder 55°. Ensuite, on vérifie leur alimentation en électricité, on appelle ça la tension électrique, elle est mesurée en Volt. Elle doit être un peu au dessus de 10V.\n",
    "- après cela, on vérifie les capteurs. Et en premier les capteurs de distance, à l'avant, à droite et à gauche. Le test des capteurs est limité, on vérifie seulement que l'on a des valeurs.\n",
    "- enfin, on vérifie que la caméra est bien connectée.\n",
    "\n",
    "A tout moment, tu peux relancer la procédure de test avec la commande suivante que tu peux tester."
   ]
  },
  {
   "cell_type": "code",
   "execution_count": 2,
   "metadata": {},
   "outputs": [
    {
     "name": "stdout",
     "output_type": "stream",
     "text": [
      "- initialisation procédure de test globale\u001b[0m\n",
      "  - check moteurs:\u001b[0m\n",
      "    [avant gauche] \ttemp: 26.0° \u001b[0m\tvolt: 10.10V \u001b[0m\u001b[92m \t[ok]\u001b[0m\n",
      "    [arrière gauche] \ttemp: 26.0° \u001b[0m\tvolt: 10.00V \u001b[0m\u001b[92m \t[ok]\u001b[0m\n",
      "    [avant droit] \ttemp: 26.0° \u001b[0m\tvolt: 10.00V \u001b[0m\u001b[92m \t[ok]\u001b[0m\n",
      "    [arrière droit] \ttemp: 25.0° \u001b[0m\tvolt: 10.00V \u001b[0m\u001b[92m \t[ok]\u001b[0m\n",
      "  - check capteurs:\u001b[0m\n",
      "    [dist. avant] ... \u001b[0m\u001b[92m[ok]\u001b[0m\n",
      "    [dist. droite] ... \u001b[0m\u001b[92m[ok]\u001b[0m\n",
      "    [dist. gauche] ... \u001b[0m\u001b[92m[ok]\u001b[0m\n",
      "    [camera] ... \u001b[0m\u001b[92m[ok]\u001b[0m\n",
      "- procédure de test globale ... \u001b[0m\u001b[92m[ok]\u001b[0m\n"
     ]
    },
    {
     "data": {
      "text/plain": [
       "True"
      ]
     },
     "execution_count": 2,
     "metadata": {},
     "output_type": "execute_result"
    }
   ],
   "source": [
    "bot.check()"
   ]
  },
  {
   "cell_type": "markdown",
   "metadata": {},
   "source": [
    "Tu peux aussi conduire certains tests de façon indépendante. Par exemple vérifier la température des moteurs:"
   ]
  },
  {
   "cell_type": "code",
   "execution_count": 3,
   "metadata": {},
   "outputs": [
    {
     "data": {
      "text/plain": [
       "(26.0, 27.0, 26.0, 26.0)"
      ]
     },
     "execution_count": 3,
     "metadata": {},
     "output_type": "execute_result"
    }
   ],
   "source": [
    "bot.motor_temperature()"
   ]
  },
  {
   "cell_type": "markdown",
   "metadata": {},
   "source": [
    "ou encore leur tension d'alimentation:"
   ]
  },
  {
   "cell_type": "code",
   "execution_count": 4,
   "metadata": {},
   "outputs": [
    {
     "data": {
      "text/plain": [
       "(10.100000000000001, 10.100000000000001, 10.0, 10.0)"
      ]
     },
     "execution_count": 4,
     "metadata": {},
     "output_type": "execute_result"
    }
   ],
   "source": [
    "bot.motor_voltage()"
   ]
  },
  {
   "cell_type": "markdown",
   "metadata": {},
   "source": [
    "## Déplacement"
   ]
  },
  {
   "cell_type": "markdown",
   "metadata": {},
   "source": [
    "Pour commencer, tu peux demander au robot d'avancer."
   ]
  },
  {
   "cell_type": "code",
   "execution_count": null,
   "metadata": {},
   "outputs": [],
   "source": [
    "bot.avance(distance = 40, duree = 5)\n",
    "bot.pivote(angle = - 90)\n",
    "bot.avance(distance = 40 , duree = 5)\n",
    "bot.pivote(angle = - 90)\n",
    "bot.avance(distance = 22 , duree = 3)\n",
    "bot.pivote(angle = - 90)\n",
    "bot.avance(distance = 15 , duree = 3)\n",
    "bot.avance(distance = - 20 , duree = 2)\n",
    "bot.pivote(angle = 90)\n",
    "bot.avance(distance = 20 , duree = 3)\n",
    "bot.pivote(angle = - 90)\n",
    "bot.avance(distance = 40)\n",
    "bot.pivote(angle = 90)\n",
    "bot.avance(distance = 15 , duree = 2)\n"
   ]
  },
  {
   "cell_type": "code",
   "execution_count": 2,
   "metadata": {},
   "outputs": [],
   "source": [
    "bot.avance(distance=5)"
   ]
  },
  {
   "cell_type": "code",
   "execution_count": 3,
   "metadata": {},
   "outputs": [],
   "source": [
    "bot.avance(vitesse=10, duree=1)"
   ]
  },
  {
   "cell_type": "code",
   "execution_count": 4,
   "metadata": {},
   "outputs": [],
   "source": [
    "bot.avance(distance=-10, vitesse=15)"
   ]
  },
  {
   "cell_type": "code",
   "execution_count": 5,
   "metadata": {},
   "outputs": [],
   "source": [
    "bot.avance(distance=10, duree=1)"
   ]
  },
  {
   "cell_type": "code",
   "execution_count": 6,
   "metadata": {},
   "outputs": [],
   "source": [
    "bot.pivote(angle=45)"
   ]
  },
  {
   "cell_type": "code",
   "execution_count": 7,
   "metadata": {},
   "outputs": [],
   "source": [
    "bot.pivote(angle=-90)"
   ]
  },
  {
   "cell_type": "code",
   "execution_count": 8,
   "metadata": {},
   "outputs": [
    {
     "name": "stdout",
     "output_type": "stream",
     "text": [
      "\u001b[91m[warning] \u001b[0mavance: si la distance et la vitesse sont donnée, la duree est en trop...\u001b[0m\n"
     ]
    }
   ],
   "source": [
    "bot.avance(distance=-10, vitesse=10, duree=2)"
   ]
  },
  {
   "cell_type": "code",
   "execution_count": 9,
   "metadata": {},
   "outputs": [],
   "source": [
    "bot.avance(distance=5, duree=1)\n",
    "bot.pivote(angle=180, duree=1)\n",
    "bot.avance(distance=-5,duree=1)"
   ]
  },
  {
   "cell_type": "code",
   "execution_count": null,
   "metadata": {},
   "outputs": [],
   "source": [
    "bot.pivote(angle=45, duree=0.5)\n",
    "bot.pivote(angle=-90, duree=1)\n",
    "bot.pivote(angle=45, duree=0.5)"
   ]
  },
  {
   "cell_type": "markdown",
   "metadata": {},
   "source": [
    "Ecris un programme `carre1()` qui demande au robot de parcourir un carré de 40cm de côté."
   ]
  },
  {
   "cell_type": "code",
   "execution_count": null,
   "metadata": {},
   "outputs": [],
   "source": [
    "def carre1():\n",
    "    # A toi de jouer"
   ]
  },
  {
   "cell_type": "markdown",
   "metadata": {},
   "source": [
    "Ecris le même programme, mais avec une boucle:"
   ]
  },
  {
   "cell_type": "code",
   "execution_count": null,
   "metadata": {},
   "outputs": [],
   "source": [
    "def carre2():\n",
    "    for i in [1,2,3,4]:\n",
    "        # A toi de jouer"
   ]
  },
  {
   "cell_type": "code",
   "execution_count": 14,
   "metadata": {
    "scrolled": true
   },
   "outputs": [
    {
     "name": "stdout",
     "output_type": "stream",
     "text": [
      "4.576477321505223\n",
      "3.035957350272233\n",
      "6.13447559709242\n",
      "7.262368523568368\n"
     ]
    },
    {
     "ename": "KeyboardInterrupt",
     "evalue": "",
     "output_type": "error",
     "traceback": [
      "\u001b[0;31m---------------------------------------------------------------------------\u001b[0m",
      "\u001b[0;31mKeyboardInterrupt\u001b[0m                         Traceback (most recent call last)",
      "\u001b[0;32m<ipython-input-14-52dc21a05d1d>\u001b[0m in \u001b[0;36m<module>\u001b[0;34m\u001b[0m\n\u001b[1;32m      8\u001b[0m         \u001b[0mdd\u001b[0m \u001b[0;34m=\u001b[0m \u001b[0mbot\u001b[0m\u001b[0;34m.\u001b[0m\u001b[0mdistance\u001b[0m\u001b[0;34m(\u001b[0m\u001b[0;34m'droite'\u001b[0m\u001b[0;34m)\u001b[0m\u001b[0;34m\u001b[0m\u001b[0m\n\u001b[1;32m      9\u001b[0m         \u001b[0;32mif\u001b[0m \u001b[0mdd\u001b[0m \u001b[0;34m<\u001b[0m \u001b[0;36m7\u001b[0m \u001b[0;34m:\u001b[0m\u001b[0;34m\u001b[0m\u001b[0m\n\u001b[0;32m---> 10\u001b[0;31m             \u001b[0mbot\u001b[0m\u001b[0;34m.\u001b[0m\u001b[0mpivote\u001b[0m\u001b[0;34m(\u001b[0m\u001b[0mangle\u001b[0m \u001b[0;34m=\u001b[0m \u001b[0;36m2\u001b[0m\u001b[0;34m)\u001b[0m\u001b[0;34m\u001b[0m\u001b[0m\n\u001b[0m\u001b[1;32m     11\u001b[0m             \u001b[0mbot\u001b[0m\u001b[0;34m.\u001b[0m\u001b[0mavance\u001b[0m\u001b[0;34m(\u001b[0m\u001b[0mdistance\u001b[0m \u001b[0;34m=\u001b[0m \u001b[0;36m2\u001b[0m\u001b[0;34m)\u001b[0m\u001b[0;34m\u001b[0m\u001b[0m\n\u001b[1;32m     12\u001b[0m         \u001b[0;32mif\u001b[0m \u001b[0mdd\u001b[0m \u001b[0;34m>\u001b[0m \u001b[0;36m8\u001b[0m \u001b[0;34m:\u001b[0m\u001b[0;34m\u001b[0m\u001b[0m\n",
      "\u001b[0;32m~/Miniban/src/robot/robot.py\u001b[0m in \u001b[0;36mpivote\u001b[0;34m(self, vitesse, angle, duree)\u001b[0m\n\u001b[1;32m    216\u001b[0m         \u001b[0mseuil\u001b[0m \u001b[0;34m=\u001b[0m \u001b[0;36m0.1\u001b[0m\u001b[0;34m\u001b[0m\u001b[0m\n\u001b[1;32m    217\u001b[0m         \u001b[0;32mwhile\u001b[0m \u001b[0;32mTrue\u001b[0m\u001b[0;34m:\u001b[0m\u001b[0;34m\u001b[0m\u001b[0m\n\u001b[0;32m--> 218\u001b[0;31m             \u001b[0mdelta_theta\u001b[0m \u001b[0;34m=\u001b[0m \u001b[0mself\u001b[0m\u001b[0;34m.\u001b[0m\u001b[0mimu\u001b[0m\u001b[0;34m.\u001b[0m\u001b[0mget_orientation\u001b[0m\u001b[0;34m(\u001b[0m\u001b[0;34m)\u001b[0m \u001b[0;34m-\u001b[0m \u001b[0mtheta0\u001b[0m\u001b[0;34m\u001b[0m\u001b[0m\n\u001b[0m\u001b[1;32m    219\u001b[0m             \u001b[0merreur\u001b[0m \u001b[0;34m=\u001b[0m \u001b[0mangle\u001b[0m \u001b[0;34m-\u001b[0m \u001b[0mdelta_theta\u001b[0m\u001b[0;34m\u001b[0m\u001b[0m\n\u001b[1;32m    220\u001b[0m             \u001b[0mv\u001b[0m \u001b[0;34m=\u001b[0m \u001b[0;34m-\u001b[0m\u001b[0;36m0.2\u001b[0m \u001b[0;34m*\u001b[0m \u001b[0merreur\u001b[0m\u001b[0;34m\u001b[0m\u001b[0m\n",
      "\u001b[0;32m~/Miniban/src/robot/imu_reader.py\u001b[0m in \u001b[0;36mget_orientation\u001b[0;34m(self)\u001b[0m\n\u001b[1;32m     69\u001b[0m \u001b[0;34m\u001b[0m\u001b[0m\n\u001b[1;32m     70\u001b[0m     \u001b[0;32mdef\u001b[0m \u001b[0mget_orientation\u001b[0m\u001b[0;34m(\u001b[0m\u001b[0mself\u001b[0m\u001b[0;34m)\u001b[0m\u001b[0;34m:\u001b[0m\u001b[0;34m\u001b[0m\u001b[0m\n\u001b[0;32m---> 71\u001b[0;31m         \u001b[0mself\u001b[0m\u001b[0;34m.\u001b[0m\u001b[0mmutex\u001b[0m\u001b[0;34m.\u001b[0m\u001b[0macquire\u001b[0m\u001b[0;34m(\u001b[0m\u001b[0;34m)\u001b[0m\u001b[0;34m\u001b[0m\u001b[0m\n\u001b[0m\u001b[1;32m     72\u001b[0m         \u001b[0mres\u001b[0m \u001b[0;34m=\u001b[0m \u001b[0mself\u001b[0m\u001b[0;34m.\u001b[0m\u001b[0morientation\u001b[0m\u001b[0;34m\u001b[0m\u001b[0m\n\u001b[1;32m     73\u001b[0m         \u001b[0mself\u001b[0m\u001b[0;34m.\u001b[0m\u001b[0mmutex\u001b[0m\u001b[0;34m.\u001b[0m\u001b[0mrelease\u001b[0m\u001b[0;34m(\u001b[0m\u001b[0;34m)\u001b[0m\u001b[0;34m\u001b[0m\u001b[0m\n",
      "\u001b[0;31mKeyboardInterrupt\u001b[0m: "
     ]
    }
   ],
   "source": [
    "import time\n",
    "for i in range(50):\n",
    "    bot.avance(vitesse=5)\n",
    "    while True:\n",
    "        time.sleep(0.05)\n",
    "        da = bot.distance('avant')\n",
    "        if da < 8: break\n",
    "        dd = bot.distance('droite')\n",
    "        if dd < 7 : \n",
    "            bot.pivote(angle = 2)\n",
    "            bot.avance(distance = 2)\n",
    "        if dd > 8 : \n",
    "            bot.pivote(angle = -2)\n",
    "            bot.avance(distance = 2)\n",
    "        if dd > 15 :\n",
    "            bot.avance(distance = 17)\n",
    "            bot.pivote(angle = - 85)\n",
    "            bot.avance(distance = 15)\n",
    "        bot.avance(vitesse = 5)\n",
    "        \n",
    "    print(da)\n",
    "    bot.pivote(angle = 90)\n",
    "\n",
    "bot.stop()"
   ]
  },
  {
   "cell_type": "code",
   "execution_count": 15,
   "metadata": {},
   "outputs": [],
   "source": [
    "bot.stop()"
   ]
  },
  {
   "cell_type": "code",
   "execution_count": 39,
   "metadata": {},
   "outputs": [
    {
     "name": "stdout",
     "output_type": "stream",
     "text": [
      "34.5464362850972\n"
     ]
    }
   ],
   "source": [
    "print(bot.distance(\"gauche\"))\n"
   ]
  },
  {
   "cell_type": "markdown",
   "metadata": {},
   "source": [
    "## Affichage"
   ]
  },
  {
   "cell_type": "code",
   "execution_count": null,
   "metadata": {},
   "outputs": [],
   "source": [
    "bot.print_lines(['Hello world !', 'bonjour les doudous !', 'Comment ça va ?'])"
   ]
  },
  {
   "cell_type": "markdown",
   "metadata": {},
   "source": [
    "## Capteurs de distance"
   ]
  },
  {
   "cell_type": "markdown",
   "metadata": {},
   "source": [
    "Le capteur de distance sert à mesurer la distance entre le robot et un obstacle. Par exemple le capteur avant donne la distance entre le robot et le premier obstacle devant le robot. \n",
    "Pour tester ça, place un obstacle devant le robot, et exécute la commande suivante:"
   ]
  },
  {
   "cell_type": "code",
   "execution_count": 27,
   "metadata": {},
   "outputs": [
    {
     "data": {
      "text/plain": [
       "12.46387496313772"
      ]
     },
     "execution_count": 27,
     "metadata": {},
     "output_type": "execute_result"
    }
   ],
   "source": [
    "bot.distance('avant')"
   ]
  },
  {
   "cell_type": "markdown",
   "metadata": {},
   "source": [
    "Le nombre qui s'affiche est la distance mesurée par le capteur en cm.\n",
    "Déplace un peu l'objet, et ré-excute la commande.  \n",
    "  \n",
    "Le robot est muni de 3 capteurs en tout, la commande précédente interrogeait le capteur avant, les deux commandes suivantes interrogent les capteurs gauche et droit. Essaie-les:"
   ]
  },
  {
   "cell_type": "code",
   "execution_count": 28,
   "metadata": {},
   "outputs": [
    {
     "data": {
      "text/plain": [
       "10.386184042824368"
      ]
     },
     "execution_count": 28,
     "metadata": {},
     "output_type": "execute_result"
    }
   ],
   "source": [
    "bot.distance('gauche')"
   ]
  },
  {
   "cell_type": "code",
   "execution_count": 29,
   "metadata": {},
   "outputs": [
    {
     "data": {
      "text/plain": [
       "8.804713804713804"
      ]
     },
     "execution_count": 29,
     "metadata": {},
     "output_type": "execute_result"
    }
   ],
   "source": [
    "bot.distance('droite')"
   ]
  },
  {
   "cell_type": "markdown",
   "metadata": {},
   "source": [
    "*Attention, le capteur a une portée maximale. Au delà de 30cm approximativement, il retourne une valeur fausse.*"
   ]
  },
  {
   "cell_type": "markdown",
   "metadata": {},
   "source": [
    "Tu peux aussi avoir les valeurs des 3 capteurs à la fois:"
   ]
  },
  {
   "cell_type": "code",
   "execution_count": 44,
   "metadata": {},
   "outputs": [
    {
     "data": {
      "text/plain": [
       "{'avant': 11.827303561334087,\n",
       " 'droite': 8.050598362376654,\n",
       " 'gauche': 9.462888309224567}"
      ]
     },
     "execution_count": 44,
     "metadata": {},
     "output_type": "execute_result"
    }
   ],
   "source": [
    "bot.distance()"
   ]
  },
  {
   "cell_type": "markdown",
   "metadata": {},
   "source": [
    "Place un objet devant le robot à environ 5cm.  \n",
    "Que fait le programme suivant ? Exécutes-le plusieurs fois d'affilée, que constate-tu ?"
   ]
  },
  {
   "cell_type": "code",
   "execution_count": 57,
   "metadata": {},
   "outputs": [
    {
     "name": "stdout",
     "output_type": "stream",
     "text": [
      "distance avant le mouvement: 3.49 cm\n",
      "distance après le mouvement: 10.46 cm\n"
     ]
    }
   ],
   "source": [
    "import time # on importe la bibliothèque 'time' c'est un détail technique, \n",
    "            # pas besoin de le comprendre pour le moment\n",
    "\n",
    "# On commence par mesurer la distance à l'objet\n",
    "d = bot.distance('avant')\n",
    "print ('distance avant le mouvement: %0.2f cm' % d)\n",
    "\n",
    "if d < 10:\n",
    "    bot.avance(distance = -(10-d))\n",
    "\n",
    "time.sleep(0.25) # on attend un peu pour que le robot soit bien immobile\n",
    "\n",
    "# On mesure de nouveau la distance après le mouvement\n",
    "d = bot.distance('avant')\n",
    "print ('distance après le mouvement: %0.2f cm' % d)"
   ]
  },
  {
   "cell_type": "markdown",
   "metadata": {},
   "source": [
    "Ecris un programme `explore()` qui avance, petit à petit, jusqu'à ce que le robot rencontre un obstacle à moins de 5 cm, là, il devra s'arrêter."
   ]
  },
  {
   "cell_type": "code",
   "execution_count": 32,
   "metadata": {},
   "outputs": [
    {
     "ename": "SyntaxError",
     "evalue": "unexpected EOF while parsing (<ipython-input-32-41e4c3b7748d>, line 2)",
     "output_type": "error",
     "traceback": [
      "\u001b[0;36m  File \u001b[0;32m\"<ipython-input-32-41e4c3b7748d>\"\u001b[0;36m, line \u001b[0;32m2\u001b[0m\n\u001b[0;31m    # A toi de jouer !\u001b[0m\n\u001b[0m                      ^\u001b[0m\n\u001b[0;31mSyntaxError\u001b[0m\u001b[0;31m:\u001b[0m unexpected EOF while parsing\n"
     ]
    }
   ],
   "source": [
    "def explore():\n",
    "    # A toi de jouer !"
   ]
  },
  {
   "cell_type": "code",
   "execution_count": 33,
   "metadata": {
    "scrolled": true
   },
   "outputs": [
    {
     "name": "stdout",
     "output_type": "stream",
     "text": [
      "moyenne de distance : 9.1cm\n"
     ]
    }
   ],
   "source": [
    "N = 100\n",
    "sum = 0.0\n",
    "for i in range(N):\n",
    "    sum += bot.distance('avant')\n",
    "moyenne = sum / N\n",
    "print ('moyenne de distance : %0.1fcm' % moyenne)"
   ]
  },
  {
   "cell_type": "markdown",
   "metadata": {},
   "source": [
    "Dans la cellule suivante, on effectue beaucoup de mesure avec le capteur de distance avant (1000 !). Ca prend un peu de temps. Ensuite, on produit un graphique qui représente la répartition de ces mesures. Vous pourrez voir que les mesures varient un peu, on appelle ça le bruit."
   ]
  },
  {
   "cell_type": "code",
   "execution_count": 35,
   "metadata": {},
   "outputs": [
    {
     "name": "stdout",
     "output_type": "stream",
     "text": [
      "Moyenne: 9.09 cm\n",
      "Ecart type: 0.04\n"
     ]
    },
    {
     "data": {
      "image/png": "[encoded data removed]",
      "text/plain": [
       "<Figure size 432x288 with 1 Axes>"
      ]
     },
     "metadata": {
      "needs_background": "light"
     },
     "output_type": "display_data"
    }
   ],
   "source": [
    "%matplotlib inline\n",
    "import numpy as np\n",
    "import matplotlib.pyplot as plt\n",
    "import time\n",
    "\n",
    "# Collecte des mesures\n",
    "nb = 1000\n",
    "measures = []\n",
    "for i in range(nb):\n",
    "    measures.append(bot.distance('avant'))\n",
    "\n",
    "# Calcul de la moyenne et l'écart-type\n",
    "npa = np.array(measures)\n",
    "mean = np.mean(npa)\n",
    "dev = np.std(npa)\n",
    "print(\"Moyenne: %0.2f cm\" % mean)\n",
    "print(\"Ecart type: %0.2f\" % dev)\n",
    "\n",
    "# Calcul du diagramme en bâtons\n",
    "int_size = 15*dev\n",
    "X_max = mean + int_size/2\n",
    "X_min = mean - int_size/2\n",
    "N = 50\n",
    "X = []\n",
    "for n in range(0,N): X.append(X_min + n*(X_max-X_min)/N)\n",
    "H = [0]*N\n",
    "for n in range(0,N-1):\n",
    "    for m in measures:\n",
    "        if X[n] <= m and m < X[n+1]: \n",
    "            H[n] += 1\n",
    "\n",
    "# Affichage du graphique\n",
    "plt.bar(X, H, (X_max-X_min)/N)\n",
    "plt.grid()\n",
    "plt.title('Répartition des mesures de distance')\n",
    "plt.show()"
   ]
  },
  {
   "cell_type": "markdown",
   "metadata": {},
   "source": [
    "# Orientation"
   ]
  },
  {
   "cell_type": "code",
   "execution_count": null,
   "metadata": {},
   "outputs": [],
   "source": [
    "bot.imu.calib()\n",
    "bot.imu.reset_orientation()"
   ]
  },
  {
   "cell_type": "code",
   "execution_count": null,
   "metadata": {},
   "outputs": [],
   "source": [
    "bot.imu.get_orientation()"
   ]
  },
  {
   "cell_type": "markdown",
   "metadata": {},
   "source": [
    "## Déplacements"
   ]
  },
  {
   "cell_type": "code",
   "execution_count": null,
   "metadata": {},
   "outputs": [],
   "source": [
    "bot.avance(3.0,1)"
   ]
  },
  {
   "cell_type": "code",
   "execution_count": null,
   "metadata": {},
   "outputs": [],
   "source": [
    "d1 = bot.distance('avant')\n",
    "bot.avance(-5.0, 2)\n",
    "d2 = bot.distance('avant')\n",
    "print (\"déplacement : %0.1fcm\" % (d1-d2))"
   ]
  },
  {
   "cell_type": "markdown",
   "metadata": {},
   "source": [
    "Avancer jusqu'à être à 10cm du mur"
   ]
  },
  {
   "cell_type": "code",
   "execution_count": null,
   "metadata": {},
   "outputs": [],
   "source": [
    "bot.stop()"
   ]
  },
  {
   "cell_type": "code",
   "execution_count": null,
   "metadata": {},
   "outputs": [],
   "source": [
    "import time\n",
    "import chrono\n",
    "chr = chrono.Chrono()\n",
    "vitesse = 5.0\n",
    "dists = []\n",
    "temps = []\n",
    "while True:\n",
    "    bot.avance(vitesse)\n",
    "    d = bot.distance('avant')\n",
    "    dists.append(d)\n",
    "    temps.append(chr.elapsed())\n",
    "    if d < 5.0: break\n",
    "    time.sleep(0.05)\n",
    "bot.stop()"
   ]
  },
  {
   "cell_type": "code",
   "execution_count": null,
   "metadata": {},
   "outputs": [],
   "source": [
    "%matplotlib inline\n",
    "import numpy as np\n",
    "import matplotlib.pyplot as plt"
   ]
  },
  {
   "cell_type": "code",
   "execution_count": null,
   "metadata": {},
   "outputs": [],
   "source": [
    "plt.grid()\n",
    "plt.scatter(temps, dists)\n",
    "plt.title('mesures du capteur de distance')\n",
    "plt.show()"
   ]
  },
  {
   "cell_type": "code",
   "execution_count": null,
   "metadata": {},
   "outputs": [],
   "source": [
    "X = np.array(temps)\n",
    "Y = np.array(dists)\n",
    "a,b = np.polyfit(X,Y,1)\n",
    "print ('On obtient comme approximation la droite y = %0.2f x + %0.2f' % (a,b))\n",
    "print ('cela veut dire que le robot s\\'est déplacé à %0.2f cm/s' % a)\n",
    "print ('rapport (vitesse réelle) / (vitesse théorique) : %0.1f%%' % abs(100*a/vitesse))"
   ]
  },
  {
   "cell_type": "code",
   "execution_count": null,
   "metadata": {},
   "outputs": [],
   "source": [
    "bot.imu.calib(5)"
   ]
  },
  {
   "cell_type": "code",
   "execution_count": null,
   "metadata": {},
   "outputs": [],
   "source": [
    "import time\n",
    "tgt = -45.0\n",
    "theta0 = bot.imu.get_orientation()\n",
    "while True:\n",
    "    delta_theta = bot.imu.get_orientation() - theta0\n",
    "    erreur = tgt - delta_theta\n",
    "    v = -0.2 * erreur\n",
    "    sign = 1 if v > 0 else -1\n",
    "    v_abs = abs(v)\n",
    "    if v_abs < 2: v_abs = 2\n",
    "    if abs(erreur) > 5 or v_abs > 10: v_abs = 10\n",
    "    v = sign * v_abs\n",
    "    bot.pivote(v)\n",
    "    if abs(erreur) < 1.0: break\n",
    "    time.sleep(0.01)\n",
    "bot.stop()\n",
    "time.sleep(0.250)\n",
    "print(bot.imu.get_orientation()-theta0)"
   ]
  },
  {
   "cell_type": "markdown",
   "metadata": {},
   "source": [
    "## Camera"
   ]
  },
  {
   "cell_type": "code",
   "execution_count": null,
   "metadata": {},
   "outputs": [],
   "source": [
    "bot.photo()\n",
    "from IPython.display import Image\n",
    "from IPython.core.display import HTML \n",
    "Image(filename= \"image.jpg\")"
   ]
  },
  {
   "cell_type": "code",
   "execution_count": null,
   "metadata": {},
   "outputs": [],
   "source": [
    "import os\n",
    "os.system('sudo halt')"
   ]
  },
  {
   "cell_type": "code",
   "execution_count": null,
   "metadata": {},
   "outputs": [],
   "source": []
  },
  {
   "cell_type": "code",
   "execution_count": null,
   "metadata": {},
   "outputs": [],
   "source": []
  }
 ],
 "metadata": {
  "celltoolbar": "Format de la Cellule Texte Brut",
  "kernelspec": {
   "display_name": "Python 3",
   "language": "python",
   "name": "python3"
  },
  "language_info": {
   "codemirror_mode": {
    "name": "ipython",
    "version": 3
   },
   "file_extension": ".py",
   "mimetype": "text/x-python",
   "name": "python",
   "nbconvert_exporter": "python",
   "pygments_lexer": "ipython3",
   "version": "3.5.3"
  }
 },
 "nbformat": 4,
 "nbformat_minor": 2
}
